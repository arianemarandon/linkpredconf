{
 "cells": [
  {
   "cell_type": "code",
   "execution_count": 1,
   "id": "449ec80f",
   "metadata": {},
   "outputs": [
    {
     "name": "stdout",
     "output_type": "stream",
     "text": [
      "3.10.8\n"
     ]
    }
   ],
   "source": [
    "from platform import python_version\n",
    "\n",
    "print(python_version())\n",
    "\n",
    "\n",
    "import numpy as np\n",
    "import pandas as pd\n",
    "import matplotlib.pyplot as plt\n",
    "import networkx as nx\n",
    "import scipy.sparse as sp\n",
    "import torch\n",
    "import torch_geometric\n",
    "from torch_geometric.datasets import Planetoid\n",
    "\n",
    "from conformal_lp.src import process, conformal_link_prediction\n",
    "from conformal_lp.models import SEAL_wrapper, CommonNeighbors\n",
    "from conformal_lp.gnn import GIN\n",
    "from conformal_lp.utils import make_loaders_SEAL, get_fdp"
   ]
  },
  {
   "cell_type": "markdown",
   "id": "8308a38c",
   "metadata": {},
   "source": [
    "> The input data must be of type Pytorch Geometric Dataset"
   ]
  },
  {
   "cell_type": "code",
   "execution_count": 2,
   "id": "b81140d3",
   "metadata": {},
   "outputs": [],
   "source": [
    "dataset = Planetoid(root='./data/',name='Cora')"
   ]
  },
  {
   "cell_type": "markdown",
   "id": "ec7d029c",
   "metadata": {},
   "source": [
    "> Split the data into train / test / calibration / validation samples"
   ]
  },
  {
   "cell_type": "code",
   "execution_count": 3,
   "id": "986f9b3d",
   "metadata": {},
   "outputs": [],
   "source": [
    "val_ratio=0.\n",
    "test_ratio=0.1\n",
    "calib_size = 1000\n",
    "directed=False\n",
    "\n",
    "data, split_edge = process(dataset, calib_size=calib_size, val_ratio=val_ratio, test_ratio=test_ratio, \n",
    "                           directed=directed)"
   ]
  },
  {
   "cell_type": "markdown",
   "id": "b9df887b",
   "metadata": {},
   "source": [
    "> To apply the method, we use `conformal_link_prediction(train_loader, test_loader, calib_loader, val_loader, model, level)`, where \n",
    "\n",
    "> * `model`: has a `.train()` method taking as input a `train_loader` and a `val_loader`, and a `.test()` method taking as input a `test_loader` and returning the tuple (scores for true test edges, scores for false test edges)\n",
    "> * the format of `train_loader`/`val_loader`/`test_loader`/`calib_loader` depends on `model`, see code. "
   ]
  },
  {
   "cell_type": "markdown",
   "id": "ac4fb73d",
   "metadata": {},
   "source": [
    "SEAL"
   ]
  },
  {
   "cell_type": "code",
   "execution_count": 4,
   "id": "ac32fa81",
   "metadata": {},
   "outputs": [
    {
     "name": "stderr",
     "output_type": "stream",
     "text": [
      "/Users/micarlhian/.pyenv/versions/venv/lib/python3.10/site-packages/torch_geometric/deprecation.py:22: UserWarning: 'data.DataLoader' is deprecated, use 'loader.DataLoader' instead\n",
      "  warnings.warn(out)\n"
     ]
    }
   ],
   "source": [
    "num_hops=2\n",
    "use_feature=True\n",
    "path=dataset.root+'_seal'\n",
    "train_loader, test_loader, calib_loader, val_loader=make_loaders_SEAL(path, data, split_edge, \n",
    "                                                                      num_hops=num_hops, directed=directed)"
   ]
  },
  {
   "cell_type": "code",
   "execution_count": 5,
   "id": "4f55b52a",
   "metadata": {},
   "outputs": [],
   "source": [
    "num_features = dataset[0].x.shape[1] if use_feature else None\n",
    "net = GIN(hidden_channels=32, num_layers=3, max_z=1000, num_features=num_features,  \n",
    "                    use_feature=use_feature, node_embedding=None)\n",
    "model=SEAL_wrapper(model=net, use_feature=use_feature, num_epochs=10, lr=1e-3)\n",
    "\n",
    "level=0.2 \n",
    "rej_set, test_labels = conformal_link_prediction(train_loader, test_loader, calib_loader, val_loader, model, level)"
   ]
  },
  {
   "cell_type": "markdown",
   "id": "35363d11",
   "metadata": {},
   "source": [
    "Control is at level $\\alpha \\pi_0$ where $\\pi_0$ is the proportion of nulls in the test sample"
   ]
  },
  {
   "cell_type": "code",
   "execution_count": 6,
   "id": "22912c65",
   "metadata": {},
   "outputs": [
    {
     "name": "stdout",
     "output_type": "stream",
     "text": [
      "fdp 0.09853249475890985\n",
      "tdp 0.8159392789373814\n"
     ]
    }
   ],
   "source": [
    "fdp, tdp = get_fdp(test_labels, rej_set)\n",
    "print(\"fdp\", fdp); print(\"tdp\",tdp)"
   ]
  },
  {
   "cell_type": "markdown",
   "id": "97ff3079",
   "metadata": {},
   "source": [
    "CN"
   ]
  },
  {
   "cell_type": "code",
   "execution_count": 4,
   "id": "573694b4",
   "metadata": {
    "scrolled": true
   },
   "outputs": [
    {
     "name": "stderr",
     "output_type": "stream",
     "text": [
      "/Users/micarlhian/.pyenv/versions/venv/lib/python3.10/site-packages/torch_geometric/deprecation.py:22: UserWarning: 'data.DataLoader' is deprecated, use 'loader.DataLoader' instead\n",
      "  warnings.warn(out)\n",
      "100%|████████████████████████████████████████████| 1/1 [00:00<00:00, 177.03it/s]\n",
      "100%|████████████████████████████████████████████| 1/1 [00:00<00:00, 249.02it/s]\n",
      "100%|████████████████████████████████████████████| 1/1 [00:00<00:00, 229.52it/s]\n"
     ]
    }
   ],
   "source": [
    "model=CommonNeighbors(data=data, split_edge=split_edge)\n",
    "\n",
    "level=0.2\n",
    "rej_set, test_labels = conformal_link_prediction(train_loader=None, \n",
    "                                                 test_loader='test', calib_loader='calib', \n",
    "                                                 val_loader=None, model=model, level=level)"
   ]
  },
  {
   "cell_type": "code",
   "execution_count": 5,
   "id": "c1c0ab35",
   "metadata": {
    "scrolled": true
   },
   "outputs": [
    {
     "name": "stdout",
     "output_type": "stream",
     "text": [
      "fdp 0.011904761904761904\n",
      "tdp 0.47248576850094876\n"
     ]
    }
   ],
   "source": [
    "fdp, tdp = get_fdp(test_labels, rej_set)\n",
    "print(\"fdp\", fdp); print(\"tdp\",tdp)"
   ]
  }
 ],
 "metadata": {
  "kernelspec": {
   "display_name": "Python (venv)",
   "language": "python",
   "name": "venv"
  },
  "language_info": {
   "codemirror_mode": {
    "name": "ipython",
    "version": 3
   },
   "file_extension": ".py",
   "mimetype": "text/x-python",
   "name": "python",
   "nbconvert_exporter": "python",
   "pygments_lexer": "ipython3",
   "version": "3.10.8"
  }
 },
 "nbformat": 4,
 "nbformat_minor": 5
}
